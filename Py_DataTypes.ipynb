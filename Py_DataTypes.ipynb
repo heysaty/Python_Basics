{
  "nbformat": 4,
  "nbformat_minor": 0,
  "metadata": {
    "colab": {
      "provenance": []
    },
    "kernelspec": {
      "name": "python3",
      "display_name": "Python 3"
    },
    "language_info": {
      "name": "python"
    }
  },
  "cells": [
    {
      "cell_type": "markdown",
      "source": [
        "#**Python Datatypes**\n",
        "> Numeric datatypes:"
      ],
      "metadata": {
        "id": "OSFiCJnMB-Nw"
      }
    },
    {
      "cell_type": "code",
      "source": [
        "num = 100\n",
        "print(\"the datatype of variable 'num' is {}\".format(type(num)))"
      ],
      "metadata": {
        "colab": {
          "base_uri": "https://localhost:8080/"
        },
        "id": "ILeQZnaaCsd9",
        "outputId": "018d3656-0ae0-404f-94a1-5324fc050452"
      },
      "execution_count": null,
      "outputs": [
        {
          "output_type": "stream",
          "name": "stdout",
          "text": [
            "the datatype of variable 'num' is <class 'int'>\n"
          ]
        }
      ]
    },
    {
      "cell_type": "code",
      "source": [
        "num = 100.101\n",
        "print(\"the datatype of variable 'num' is {}\".format(type(num)))"
      ],
      "metadata": {
        "colab": {
          "base_uri": "https://localhost:8080/"
        },
        "id": "GS1fuBwvCuR5",
        "outputId": "f4139dc9-f682-462f-d982-47664549fa69"
      },
      "execution_count": null,
      "outputs": [
        {
          "output_type": "stream",
          "name": "stdout",
          "text": [
            "the datatype of variable 'num' is <class 'float'>\n"
          ]
        }
      ]
    },
    {
      "cell_type": "code",
      "source": [
        "num = 100 + 100j\n",
        "print(\"the datatype of variable 'num' is {}\".format(type(num)))"
      ],
      "metadata": {
        "colab": {
          "base_uri": "https://localhost:8080/"
        },
        "id": "-gCEnSFLCxoW",
        "outputId": "363c6330-165c-4484-bd00-f6904c182c26"
      },
      "execution_count": null,
      "outputs": [
        {
          "output_type": "stream",
          "name": "stdout",
          "text": [
            "the datatype of variable 'num' is <class 'complex'>\n"
          ]
        }
      ]
    },
    {
      "cell_type": "markdown",
      "source": [
        ">String datatypes:"
      ],
      "metadata": {
        "id": "G9iJJKwXCzbL"
      }
    },
    {
      "cell_type": "code",
      "source": [
        "str1 = \"string in str1\"\n",
        "str2 = 'string in str2'\n",
        "print(str1)\n",
        "print(str2)\n",
        "\n",
        "# using ',' to concatenate the two or several strings\n",
        "print(str1,\"concatenated with\",str2)\n",
        "\n",
        "#using '+' to concate the two or several strings\n",
        "print(str1+\" concated with \"+str2)\n",
        "\n",
        "#sliceing\n",
        "print(str1[0:6])\n",
        "print(str1[-1])"
      ],
      "metadata": {
        "colab": {
          "base_uri": "https://localhost:8080/"
        },
        "id": "Qw6UaFkuC-FB",
        "outputId": "88223ca7-08d5-4253-a89a-2c130eb7cd19"
      },
      "execution_count": 60,
      "outputs": [
        {
          "output_type": "stream",
          "name": "stdout",
          "text": [
            "string in str1\n",
            "string in str2\n",
            "string in str1 concatenated with string in str2\n",
            "string in str1 concated with string in str2\n",
            "string\n",
            "1\n"
          ]
        }
      ]
    },
    {
      "cell_type": "code",
      "source": [
        "speak = \"   The night is darkest just before the dawn.   \"\n",
        "\n",
        "#strip\n",
        "print(\"Strip string\",speak.strip())\n",
        "\n",
        "#count\n",
        "print(\"Count of 'i' in string : \", speak.count('i'))\n",
        "\n",
        "#find\n",
        "print(\"the word 'night' is at position\",speak.find('night'))\n",
        "\n",
        "#replace\n",
        "print(speak.replace('darkest','the darkest').strip())\n",
        "\n",
        "#split\n",
        "print(speak.split())"
      ],
      "metadata": {
        "colab": {
          "base_uri": "https://localhost:8080/"
        },
        "id": "Uyn6H_9IuFw2",
        "outputId": "40dd4c6e-bb1b-41a5-de56-1cf6fdebe3b6"
      },
      "execution_count": null,
      "outputs": [
        {
          "output_type": "stream",
          "name": "stdout",
          "text": [
            "Strip string The night is darkest just before the dawn.\n",
            "Count of 'i' in string :  2\n",
            "the word 'night' is at position 7\n",
            "The night is the darkest just before the dawn.\n",
            "['The', 'night', 'is', 'darkest', 'just', 'before', 'the', 'dawn.']\n"
          ]
        }
      ]
    },
    {
      "cell_type": "markdown",
      "source": [
        "> List datatypes:"
      ],
      "metadata": {
        "id": "O3yVR0FNC_5N"
      }
    },
    {
      "cell_type": "code",
      "source": [
        "lst1 = [1,2,3,4,5]\n",
        "\n",
        "lst2 =['hey', 'how', 'are', 'you']\n",
        "\n",
        "lst3= [1,2,3,'i am', 'batman']\n",
        "\n",
        "print('list containing only integers : ',lst1)\n",
        "print('list containing only strings : ',lst2)\n",
        "print('list containing both integers and string : ' ,lst3)"
      ],
      "metadata": {
        "colab": {
          "base_uri": "https://localhost:8080/"
        },
        "id": "Wq6XYFdRDF7q",
        "outputId": "29fb8a81-02aa-4918-fc2e-1247fe0df7b9"
      },
      "execution_count": null,
      "outputs": [
        {
          "output_type": "stream",
          "name": "stdout",
          "text": [
            "list containing only integers :  [1, 2, 3, 4, 5]\n",
            "list containing only strings :  ['hey', 'how', 'are', 'you']\n",
            "list containing both integers and string :  [1, 2, 3, 'i am', 'batman']\n"
          ]
        }
      ]
    },
    {
      "cell_type": "code",
      "source": [
        "#join two lists\n",
        "\n",
        "new_lst = lst1 + lst2\n",
        "print(new_lst)"
      ],
      "metadata": {
        "colab": {
          "base_uri": "https://localhost:8080/"
        },
        "id": "QXdw_Wxnyfce",
        "outputId": "46877d77-426f-4905-c685-6d7b2a1dd0a5"
      },
      "execution_count": null,
      "outputs": [
        {
          "output_type": "stream",
          "name": "stdout",
          "text": [
            "[1, 2, 3, 4, 5, 'hey', 'how', 'are', 'you']\n"
          ]
        }
      ]
    },
    {
      "cell_type": "code",
      "source": [
        "# list comprehension\n",
        "items = [\"bike\", \"car\", \"plane\", \"boat\", \"rocket\"]\n",
        "\n",
        "new_list = [item for item in items if \"rocket\" in item]\n",
        "\n",
        "print(new_list)"
      ],
      "metadata": {
        "colab": {
          "base_uri": "https://localhost:8080/"
        },
        "id": "oCoRojWvv7dv",
        "outputId": "1ca2816a-b0de-4413-8bd7-affcd575bb98"
      },
      "execution_count": null,
      "outputs": [
        {
          "output_type": "stream",
          "name": "stdout",
          "text": [
            "['rocket']\n"
          ]
        }
      ]
    },
    {
      "cell_type": "code",
      "source": [
        "# append \n",
        "\n",
        "items.append(\"house\")\n",
        "print(items)\n",
        "\n",
        "#extends\n",
        "new=['horse','dog','cat']\n",
        "\n",
        "items.extend(new)\n",
        "print(items)"
      ],
      "metadata": {
        "colab": {
          "base_uri": "https://localhost:8080/"
        },
        "id": "9h9vk66A3n0S",
        "outputId": "12231be6-600e-4ed6-c65f-50b375834144"
      },
      "execution_count": null,
      "outputs": [
        {
          "output_type": "stream",
          "name": "stdout",
          "text": [
            "['bike', 'car', 'plane', 'boat', 'rocket', 'house', 'house']\n",
            "['bike', 'car', 'plane', 'boat', 'rocket', 'house', 'house', 'horse', 'dog', 'cat']\n"
          ]
        }
      ]
    },
    {
      "cell_type": "markdown",
      "source": [
        ">Python Tuple:"
      ],
      "metadata": {
        "id": "bGLwGReADKwO"
      }
    },
    {
      "cell_type": "code",
      "source": [
        "tup1 = (1,2,3,4)\n",
        "tup2 = ('hello', 12 ,34)\n",
        "print(tup1, tup2)\n",
        "\n",
        "\n",
        "#tuple is immutable\n",
        "try:\n",
        "  tup1[1]=22\n",
        "except:\n",
        "  print('tuple is immutable')\n",
        "\n",
        "\n",
        "#indexing\n",
        "print(tup1.index(2))\n",
        "\n",
        "\n"
      ],
      "metadata": {
        "colab": {
          "base_uri": "https://localhost:8080/"
        },
        "id": "prnJ9pdMDO9M",
        "outputId": "23126294-e72c-4ac8-eb77-57b9e9ef11ba"
      },
      "execution_count": 61,
      "outputs": [
        {
          "output_type": "stream",
          "name": "stdout",
          "text": [
            "(1, 2, 3, 4) ('hello', 12, 34)\n",
            "tuple is immutable\n",
            "1\n"
          ]
        }
      ]
    },
    {
      "cell_type": "markdown",
      "source": [
        "#Deleteing a variable"
      ],
      "metadata": {
        "id": "sfo3PnWbDQlv"
      }
    },
    {
      "cell_type": "code",
      "source": [
        "num = 101\n",
        "print('num = ', num)\n",
        "\n",
        "# variable is deleted\n",
        "del num\n",
        "try :\n",
        "  print(num)\n",
        "except:\n",
        "  print(\"variabale num is deleted\")"
      ],
      "metadata": {
        "colab": {
          "base_uri": "https://localhost:8080/"
        },
        "id": "cVDJTs5nDXIP",
        "outputId": "a31010ad-a0e6-461d-f224-fff9c6db6ad2"
      },
      "execution_count": null,
      "outputs": [
        {
          "output_type": "stream",
          "name": "stdout",
          "text": [
            "num =  101\n",
            "variabale num is deleted\n"
          ]
        }
      ]
    },
    {
      "cell_type": "markdown",
      "source": [
        "#Zip"
      ],
      "metadata": {
        "id": "iMf7wrBHRXAL"
      }
    },
    {
      "cell_type": "code",
      "source": [
        "# closure,zip, reduce filter, \n",
        "\n",
        "tup1 = (\"John\", \"Charles\", \"Mike\")\n",
        "tup2 = (\"Jenny\", \"Christy\", \"Monica\")\n",
        "\n",
        "tups = zip(tup1, tup2)"
      ],
      "metadata": {
        "id": "LpFmwbJoDZkN"
      },
      "execution_count": null,
      "outputs": []
    },
    {
      "cell_type": "code",
      "source": [
        "for tup in tups:\n",
        "  print(tup)"
      ],
      "metadata": {
        "colab": {
          "base_uri": "https://localhost:8080/"
        },
        "id": "8v4IhStcO82n",
        "outputId": "eaac81f0-0078-441f-cf64-c2ac610b0600"
      },
      "execution_count": null,
      "outputs": [
        {
          "output_type": "stream",
          "name": "stdout",
          "text": [
            "('John', 'Jenny')\n",
            "('Charles', 'Christy')\n",
            "('Mike', 'Monica')\n"
          ]
        }
      ]
    },
    {
      "cell_type": "markdown",
      "source": [
        "**Type-checking can be done at two stages -**\n",
        "\n",
        ">Static - Data Types are checked before execution.\n",
        "\n",
        ">Dynamic - Data Types are checked during execution."
      ],
      "metadata": {
        "id": "x6AjWLddO_S7"
      }
    },
    {
      "cell_type": "markdown",
      "source": [
        "**Scope in python -**\n",
        "\n",
        "A scope is a block of code where an object in Python remains relevant.\n",
        "\n",
        ">A local scope refers to the local objects available in the current function.\n",
        "\n",
        ">A global scope refers to the objects available throughout the code execution since their inception.\n",
        "\n",
        ">A module-level scope refers to the global objects of the current module accessible in the program.\n",
        "\n",
        ">An outermost scope refers to all the built-in names callable in the program. The objects in this scope are searched last to find the name referenced."
      ],
      "metadata": {
        "id": "L5gJHK1-SZtK"
      }
    },
    {
      "cell_type": "markdown",
      "source": [
        "#Set and Frozen Set\n",
        ">A set is an unordered and unindexed collection of unique elements. Sets are mutable, you can change the elements using a built-in function like add(), remove(), etc.\n",
        "\n",
        "> {} or (), can't initaialize empty set wit {}, must be done using set().\n",
        "\n",
        "Frozen Set:\n",
        ">A frozenset is an unordered and unindexed collection of unique elements. It is immutable and it is hashable. It is also called an immutable set. Since the elements are fixed, unlike sets you can't add or remove elements from the set\n",
        "\n"
      ],
      "metadata": {
        "id": "Qc8fWh33VvKx"
      }
    },
    {
      "cell_type": "code",
      "source": [
        "#set\n",
        "fruits = {\"Apple\", \"Banana\", \"Cherry\", \"Apple\", \"Kiwi\"}\n",
        "\n",
        "print('Unique elements:', fruits,'\\n', type(fruits))"
      ],
      "metadata": {
        "colab": {
          "base_uri": "https://localhost:8080/"
        },
        "id": "Nda5FiD1Vyxl",
        "outputId": "70e1bde4-5eff-4d0a-aa9f-36e12d5ae609"
      },
      "execution_count": null,
      "outputs": [
        {
          "output_type": "stream",
          "name": "stdout",
          "text": [
            "Unique elements: {'Banana', 'Cherry', 'Apple', 'Kiwi'} \n",
            " <class 'set'>\n"
          ]
        }
      ]
    },
    {
      "cell_type": "code",
      "source": [
        "if 'Apple' in fruits:\n",
        "  print('Apple in fruits set')\n"
      ],
      "metadata": {
        "colab": {
          "base_uri": "https://localhost:8080/"
        },
        "id": "r6HsPLNgWYze",
        "outputId": "369fff3e-ae35-465d-c272-c946d85f9533"
      },
      "execution_count": null,
      "outputs": [
        {
          "output_type": "stream",
          "name": "stdout",
          "text": [
            "Apple in fruits set\n"
          ]
        }
      ]
    },
    {
      "cell_type": "code",
      "source": [
        "fruits.add(\"Mango\")\n",
        "print('After adding element:', fruits)"
      ],
      "metadata": {
        "colab": {
          "base_uri": "https://localhost:8080/"
        },
        "id": "9sA-K0siW5eI",
        "outputId": "df0072d2-c2da-457f-b9f3-b38e275a23d1"
      },
      "execution_count": null,
      "outputs": [
        {
          "output_type": "stream",
          "name": "stdout",
          "text": [
            "After adding element: {'Banana', 'Kiwi', 'Cherry', 'Mango', 'Apple'}\n"
          ]
        }
      ]
    },
    {
      "cell_type": "code",
      "source": [
        "fruits.remove(\"Mango\")\n",
        "print('After removing element:', fruits)"
      ],
      "metadata": {
        "colab": {
          "base_uri": "https://localhost:8080/"
        },
        "id": "fhbFQ_2XWmhd",
        "outputId": "34411ba8-7c5b-43c7-a040-1bf9872aef10"
      },
      "execution_count": null,
      "outputs": [
        {
          "output_type": "stream",
          "name": "stdout",
          "text": [
            "After removing element: {'Banana', 'Kiwi', 'Cherry', 'Apple'}\n"
          ]
        }
      ]
    },
    {
      "cell_type": "code",
      "source": [
        "# frozen set\n",
        "\n",
        "fruits = {\"Apple\", \"Banana\", \"Cherry\", \"Apple\", \"Kiwi\"}\n",
        "basket = frozenset(fruits)\n",
        "\n",
        "print('Unique elements:', fruits,'\\n', type(fruits))"
      ],
      "metadata": {
        "colab": {
          "base_uri": "https://localhost:8080/"
        },
        "id": "PCEHdVZxWz55",
        "outputId": "335bb52f-421f-41ad-feec-7f2de02fc2fc"
      },
      "execution_count": null,
      "outputs": [
        {
          "output_type": "stream",
          "name": "stdout",
          "text": [
            "Unique elements: {'Banana', 'Cherry', 'Apple', 'Kiwi'} \n",
            " <class 'set'>\n"
          ]
        }
      ]
    },
    {
      "cell_type": "markdown",
      "source": [
        "#Filter"
      ],
      "metadata": {
        "id": "1OcRY5bzXH0y"
      }
    },
    {
      "cell_type": "code",
      "source": [
        "\n",
        "# both even and odd numbers. \n",
        "seq = [0, 1, 2, 3, 5, 8, 13]\n",
        "  \n",
        "# odd numbers of the list\n",
        "result = filter(lambda x: x % 2 != 0, seq)\n",
        "\n",
        "print(list(result))"
      ],
      "metadata": {
        "colab": {
          "base_uri": "https://localhost:8080/"
        },
        "id": "zsFkjLC10PkB",
        "outputId": "91cdfcbb-70c1-4c8a-8ba8-9b7f83cda995"
      },
      "execution_count": null,
      "outputs": [
        {
          "output_type": "stream",
          "name": "stdout",
          "text": [
            "[1, 3, 5, 13]\n"
          ]
        }
      ]
    },
    {
      "cell_type": "markdown",
      "source": [
        "#Boolean"
      ],
      "metadata": {
        "id": "8iyGH7i883jP"
      }
    },
    {
      "cell_type": "code",
      "source": [
        "type(True)"
      ],
      "metadata": {
        "colab": {
          "base_uri": "https://localhost:8080/"
        },
        "id": "Ys-MNbByJQLN",
        "outputId": "68382ee0-db44-4ebe-8391-72c78888caab"
      },
      "execution_count": 43,
      "outputs": [
        {
          "output_type": "execute_result",
          "data": {
            "text/plain": [
              "bool"
            ]
          },
          "metadata": {},
          "execution_count": 43
        }
      ]
    },
    {
      "cell_type": "code",
      "source": [
        "type(False)"
      ],
      "metadata": {
        "colab": {
          "base_uri": "https://localhost:8080/"
        },
        "id": "KDO4SNw4Jbqo",
        "outputId": "233b496d-25e2-4cbc-b6c4-6dc9209ce8c1"
      },
      "execution_count": 62,
      "outputs": [
        {
          "output_type": "execute_result",
          "data": {
            "text/plain": [
              "bool"
            ]
          },
          "metadata": {},
          "execution_count": 62
        }
      ]
    },
    {
      "cell_type": "code",
      "source": [
        "number1 = 100\n",
        "number2 = 200\n",
        "result = 100 < 200\n",
        "print(result)"
      ],
      "metadata": {
        "colab": {
          "base_uri": "https://localhost:8080/"
        },
        "id": "7ZcQZ8glLyyr",
        "outputId": "7a4cea1e-ec64-4a07-8ddc-2f4b568e23ea"
      },
      "execution_count": 64,
      "outputs": [
        {
          "output_type": "stream",
          "name": "stdout",
          "text": [
            "True\n"
          ]
        }
      ]
    },
    {
      "cell_type": "markdown",
      "source": [
        "#Math"
      ],
      "metadata": {
        "id": "cwYNRpXuJwws"
      }
    },
    {
      "cell_type": "code",
      "source": [
        "#max\n",
        "nums = [1,2,344,11,22,3,23]\n",
        "max(nums)"
      ],
      "metadata": {
        "colab": {
          "base_uri": "https://localhost:8080/"
        },
        "id": "b4yseu4jJdub",
        "outputId": "1dda4430-ec28-4a2d-f3a7-d627960f85e2"
      },
      "execution_count": 45,
      "outputs": [
        {
          "output_type": "execute_result",
          "data": {
            "text/plain": [
              "344"
            ]
          },
          "metadata": {},
          "execution_count": 45
        }
      ]
    },
    {
      "cell_type": "code",
      "source": [
        "#min\n",
        "min(nums)"
      ],
      "metadata": {
        "colab": {
          "base_uri": "https://localhost:8080/"
        },
        "id": "neoQEiAUJlqa",
        "outputId": "a3d90c09-7276-4eab-8301-63e3fff0b6c3"
      },
      "execution_count": 46,
      "outputs": [
        {
          "output_type": "execute_result",
          "data": {
            "text/plain": [
              "1"
            ]
          },
          "metadata": {},
          "execution_count": 46
        }
      ]
    },
    {
      "cell_type": "code",
      "source": [
        "#sum\n",
        "sum(nums)"
      ],
      "metadata": {
        "colab": {
          "base_uri": "https://localhost:8080/"
        },
        "id": "HHyp2mMPJp9P",
        "outputId": "0d2b8556-0867-4a48-8741-159aa333c175"
      },
      "execution_count": 47,
      "outputs": [
        {
          "output_type": "execute_result",
          "data": {
            "text/plain": [
              "406"
            ]
          },
          "metadata": {},
          "execution_count": 47
        }
      ]
    },
    {
      "cell_type": "code",
      "source": [
        "#absolute\n",
        "abs(-111)"
      ],
      "metadata": {
        "colab": {
          "base_uri": "https://localhost:8080/"
        },
        "id": "hyaQq62GJtcT",
        "outputId": "256050d4-0eb3-40bb-f4f0-aad4e5c87bb9"
      },
      "execution_count": 50,
      "outputs": [
        {
          "output_type": "execute_result",
          "data": {
            "text/plain": [
              "111"
            ]
          },
          "metadata": {},
          "execution_count": 50
        }
      ]
    },
    {
      "cell_type": "code",
      "source": [
        "#round\n",
        "round(3.33)"
      ],
      "metadata": {
        "colab": {
          "base_uri": "https://localhost:8080/"
        },
        "id": "EYJV6BlbJ11d",
        "outputId": "91300054-e7ed-41bd-f81a-82005aa2654f"
      },
      "execution_count": 51,
      "outputs": [
        {
          "output_type": "execute_result",
          "data": {
            "text/plain": [
              "3"
            ]
          },
          "metadata": {},
          "execution_count": 51
        }
      ]
    },
    {
      "cell_type": "code",
      "source": [
        "#map\n",
        "def addition(n):\n",
        "    return n*n\n",
        "  \n",
        "\n",
        "numbers = (1, 2, 3, 4)\n",
        "result = map(addition, numbers)\n",
        "print(list(result))"
      ],
      "metadata": {
        "colab": {
          "base_uri": "https://localhost:8080/"
        },
        "id": "t_BV93JiJ_MR",
        "outputId": "880914da-ae60-4d26-a294-836000ababb5"
      },
      "execution_count": 53,
      "outputs": [
        {
          "output_type": "stream",
          "name": "stdout",
          "text": [
            "[1, 4, 9, 16]\n"
          ]
        }
      ]
    },
    {
      "cell_type": "code",
      "source": [
        "#sorted\n",
        "sorted(nums)"
      ],
      "metadata": {
        "colab": {
          "base_uri": "https://localhost:8080/"
        },
        "id": "8Fw3bbLdKUkL",
        "outputId": "f02024fc-71b1-4dc2-b140-b77aa6b192eb"
      },
      "execution_count": 54,
      "outputs": [
        {
          "output_type": "execute_result",
          "data": {
            "text/plain": [
              "[1, 2, 3, 11, 22, 23, 344]"
            ]
          },
          "metadata": {},
          "execution_count": 54
        }
      ]
    },
    {
      "cell_type": "markdown",
      "source": [
        "#Type Conversion"
      ],
      "metadata": {
        "id": "9i8RuhKJKdU-"
      }
    },
    {
      "cell_type": "code",
      "source": [
        "num_string = '12'\n",
        "num_integer = 23\n",
        "\n",
        "print(\"Before Type Casting:\",type(num_string))\n"
      ],
      "metadata": {
        "colab": {
          "base_uri": "https://localhost:8080/"
        },
        "id": "aLNNTzMrMY_h",
        "outputId": "61e3b54f-2a8c-4fb1-87ad-6aa32504a876"
      },
      "execution_count": 67,
      "outputs": [
        {
          "output_type": "stream",
          "name": "stdout",
          "text": [
            "Before Type Casting: <class 'str'>\n"
          ]
        }
      ]
    },
    {
      "cell_type": "code",
      "source": [
        "num_string = int(num_string)\n",
        "\n",
        "print(\"After Type Casting:\",type(num_string))\n",
        "\n"
      ],
      "metadata": {
        "colab": {
          "base_uri": "https://localhost:8080/"
        },
        "id": "y8a7msf4MewC",
        "outputId": "53c44f61-0c4e-4ffb-b6ff-420ad20a370b"
      },
      "execution_count": 68,
      "outputs": [
        {
          "output_type": "stream",
          "name": "stdout",
          "text": [
            "After Type Casting: <class 'int'>\n"
          ]
        }
      ]
    },
    {
      "cell_type": "code",
      "source": [
        "num_sum = num_integer + num_string\n",
        "\n",
        "print(\"Sum:\",num_sum)\n",
        "print(\"Data type:\",type(num_sum))"
      ],
      "metadata": {
        "colab": {
          "base_uri": "https://localhost:8080/"
        },
        "id": "IKwzSdCEMlPX",
        "outputId": "288ad6be-0e40-4637-f202-54aa909066af"
      },
      "execution_count": 69,
      "outputs": [
        {
          "output_type": "stream",
          "name": "stdout",
          "text": [
            "Sum: 35\n",
            "Data type: <class 'int'>\n"
          ]
        }
      ]
    },
    {
      "cell_type": "code",
      "source": [],
      "metadata": {
        "id": "Pp5wuLXpMm4F"
      },
      "execution_count": null,
      "outputs": []
    }
  ]
}