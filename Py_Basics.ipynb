{
  "nbformat": 4,
  "nbformat_minor": 0,
  "metadata": {
    "colab": {
      "provenance": [],
      "collapsed_sections": []
    },
    "kernelspec": {
      "name": "python3",
      "display_name": "Python 3"
    },
    "language_info": {
      "name": "python"
    }
  },
  "cells": [
    {
      "cell_type": "markdown",
      "source": [
        "#**Decorators**\n",
        "> It allows to modify the behavior of function or a class.\n",
        "\n",
        "> It wraps the function and extends its behavior."
      ],
      "metadata": {
        "id": "Mxc3TbYWG5qQ"
      }
    },
    {
      "cell_type": "code",
      "source": [
        "def big(text):\n",
        "  return text.upper()\n",
        "\n",
        "def small(text):\n",
        "  return text.lower()\n",
        "\n",
        "def speak(func):\n",
        "  speakup=func(\"\"\"Hey there, I am testing python decorators\"\"\")\n",
        "  print(speakup)\n",
        "\n",
        "speak(big)\n",
        "speak(small)"
      ],
      "metadata": {
        "colab": {
          "base_uri": "https://localhost:8080/"
        },
        "id": "jvmUhrY7HelR",
        "outputId": "05f10fe6-de78-4d8f-944a-de6368e35c43"
      },
      "execution_count": 7,
      "outputs": [
        {
          "output_type": "stream",
          "name": "stdout",
          "text": [
            "HEY THERE, I AM TESTING PYTHON DECORATORS\n",
            "hey there, i am testing python decorators\n"
          ]
        }
      ]
    },
    {
      "cell_type": "markdown",
      "source": [
        "#**Class vs DataClass**\n",
        "\n",
        "\n",
        "**Class**:  \n",
        ">A class is a logical user-created data structure which provides a way to encapsulate data and functions together\n",
        "\n",
        "**DataClass**:  \n",
        ">DataClass is a regular class with a @dataclass decorator.\n",
        "\n",
        ">Data classes make our life easier by adding special methods such as __init__(), __repr__(), etc into our class automatically.\n",
        "\n"
      ],
      "metadata": {
        "id": "IQrOWqPaKCzm"
      }
    },
    {
      "cell_type": "code",
      "source": [
        "# Class\n",
        "\n",
        "class Car:\n",
        "  def __init__(self,name, model_year):\n",
        "    self.name = name\n",
        "    self.model_year = model_year\n",
        "\n",
        "  def display(self):\n",
        "    print(f'The car name is {self.name}, it was made in {self.model_year}')\n",
        "  \n",
        "car1 = Car(\"Toyota Supra\",1980)\n",
        "car1.display()"
      ],
      "metadata": {
        "colab": {
          "base_uri": "https://localhost:8080/"
        },
        "id": "jq1h1oUOKW4L",
        "outputId": "9965db30-4922-46b3-eade-062d3ffe1b50"
      },
      "execution_count": 10,
      "outputs": [
        {
          "output_type": "stream",
          "name": "stdout",
          "text": [
            "The car name is Toyota Supra, it was made in 1980\n"
          ]
        }
      ]
    },
    {
      "cell_type": "code",
      "source": [
        "# DataClass\n",
        "\n",
        "from dataclasses import dataclass\n",
        "\n",
        "@dataclass\n",
        "class Bike:\n",
        "  name : str\n",
        "  model_year : int \n",
        "\n",
        "  def display(self):\n",
        "    print(f'The Bike name is {self.name}, it was made in {self.model_year}')\n",
        "  \n",
        "\n",
        "\n",
        "bike1 = Bike('Ducati Panigale',2002)\n",
        "bike1.display()"
      ],
      "metadata": {
        "colab": {
          "base_uri": "https://localhost:8080/"
        },
        "id": "KdLOUNVMcrMX",
        "outputId": "98f557fc-30eb-4af8-af34-3fd55ea07dee"
      },
      "execution_count": 11,
      "outputs": [
        {
          "output_type": "stream",
          "name": "stdout",
          "text": [
            "The Bike name is Ducati Panigale, it was made in 2002\n"
          ]
        }
      ]
    },
    {
      "cell_type": "markdown",
      "source": [
        "#**Generators**\n",
        ">A generator-function is defined like a normal function, but whenever it needs to generate a value, it does so with the yield keyword rather than return. \n",
        "\n",
        ">If the body of a def contains yield, the function automatically becomes a generator function"
      ],
      "metadata": {
        "id": "gR0l13sndbvp"
      }
    },
    {
      "cell_type": "code",
      "source": [
        "def cars():\n",
        "  yield \"Totota Supra\"\n",
        "  yield \"Mercedez amg\"\n",
        "  yield \"Ford mustang\"\n",
        "\n",
        "car = cars()\n",
        "\n",
        "print(next(car))\n",
        "print(next(car))\n",
        "print(next(car))"
      ],
      "metadata": {
        "colab": {
          "base_uri": "https://localhost:8080/"
        },
        "id": "Fyl6z1IMe9vV",
        "outputId": "f2f4aaa1-ac45-4c54-a955-58d865db0823"
      },
      "execution_count": 19,
      "outputs": [
        {
          "output_type": "stream",
          "name": "stdout",
          "text": [
            "Totota Supra\n",
            "Mercedez amg\n",
            "Ford mustang\n"
          ]
        }
      ]
    },
    {
      "cell_type": "code",
      "source": [
        "# generator function returns an generator object that is iterable\n",
        "all_cars = cars()\n",
        "\n",
        "for car_name in all_cars:\n",
        "  print(car_name)"
      ],
      "metadata": {
        "colab": {
          "base_uri": "https://localhost:8080/"
        },
        "id": "JOX4AWSLfhP1",
        "outputId": "9f6119ad-9d63-4523-d79c-5c9efcfc5dbc"
      },
      "execution_count": 20,
      "outputs": [
        {
          "output_type": "stream",
          "name": "stdout",
          "text": [
            "Totota Supra\n",
            "Mercedez amg\n",
            "Ford mustang\n"
          ]
        }
      ]
    },
    {
      "cell_type": "markdown",
      "source": [
        "#**String Literals**\n"
      ],
      "metadata": {
        "id": "pXeIPhUzgMA8"
      }
    },
    {
      "cell_type": "code",
      "source": [
        "# normal string literals\n",
        "print('If you’re good at something, never do it for free. - {}'.format('Joker'))"
      ],
      "metadata": {
        "colab": {
          "base_uri": "https://localhost:8080/"
        },
        "id": "0TW6O3gajrOQ",
        "outputId": "d30ab511-3102-4c3e-94ea-0c23007f4b12"
      },
      "execution_count": 24,
      "outputs": [
        {
          "output_type": "stream",
          "name": "stdout",
          "text": [
            "If you’re good at something, never do it for free. - Joker\n"
          ]
        }
      ]
    },
    {
      "cell_type": "code",
      "source": [
        "# multi-line string literals\n",
        "print('''Dear Batman,\n",
        "\n",
        "Oh, you think darkness is your ally. But you merely adopted the dark.I was born in it,\n",
        "moulded by it. I didn't see the light until I was already a man, by then it was \n",
        "nothing to me but BLINDING!.\n",
        "\n",
        "The shadows betray you, because they belong to me!\n",
        "\n",
        "Bane''')"
      ],
      "metadata": {
        "colab": {
          "base_uri": "https://localhost:8080/"
        },
        "id": "Llodj7PilEgU",
        "outputId": "22c13c6d-d9de-4376-f92a-9d8b5d8be717"
      },
      "execution_count": 27,
      "outputs": [
        {
          "output_type": "stream",
          "name": "stdout",
          "text": [
            "Dear Batman,\n",
            "\n",
            "Oh, you think darkness is your ally. But you merely adopted the dark.I was born in it,\n",
            "moulded by it. I didn't see the light until I was already a man, by then it was \n",
            "nothing to me but BLINDING!.\n",
            "\n",
            "The shadows betray you, because they belong to me!\n",
            "\n",
            "Bane\n"
          ]
        }
      ]
    },
    {
      "cell_type": "code",
      "source": [
        "# PEP specify maximum line length should be 79 characters\n",
        "\n",
        "dialogs = 'Endure, Master Wayne. Take it. They’ll hate you for it, but that’s the point '\\\n",
        "           'of Batman, he can be the outcast. He can make the choice that no one else '\\\n",
        "           'can make, the right choice.'\n",
        "\n",
        "print(dialogs)"
      ],
      "metadata": {
        "colab": {
          "base_uri": "https://localhost:8080/"
        },
        "id": "8curnoXolnbk",
        "outputId": "a59cc688-f9d3-41d5-e690-36ee701ea165"
      },
      "execution_count": 31,
      "outputs": [
        {
          "output_type": "stream",
          "name": "stdout",
          "text": [
            "Endure, Master Wayne. Take it. They’ll hate you for it, but that’s the point of Batman, he can be the outcast. He can make the choice that no one else can make, the right choice.\n"
          ]
        }
      ]
    },
    {
      "cell_type": "markdown",
      "source": [
        "#**Loops**, **Dictionary**, **File Handling**, **Time**, **Function**"
      ],
      "metadata": {
        "id": "Am8QtfU0m09O"
      }
    },
    {
      "cell_type": "code",
      "source": [
        "dialogs = {\n",
        "          'batman':[\"Why didn't you just... kill me?\",\n",
        "          \"Torture?\",\n",
        "          \"Where am I?\",\n",
        "          \"You were excommunicated... by a gang of psychopaths! \\n         [Bane viciously beats Batman and throws him to the ground] \"\n",
        "          ],\n",
        "          'bane':[\"Peace has cost you your strength! Victory has defeated you!\",\n",
        "                \"You don't fear death... You welcome it. Your punishment must be more severe.\",\n",
        "                \"Yes. But not of your body... Of your soul.\",\n",
        "                \"Home, where I learned the truth about despair, as will you. \\n       Theatricality and deception are powerful agents to the uninitiated... but we are initiated, aren't we Bruce? Members of the League of Shadows And you betrayed us\"\n",
        "          ]}"
      ],
      "metadata": {
        "id": "BJWwHlstqU2V"
      },
      "execution_count": 69,
      "outputs": []
    },
    {
      "cell_type": "code",
      "source": [
        "import time\n",
        "\n",
        "def conversation_between(name1, name2):\n",
        "  for i in range(4):\n",
        "    print('{}: '.format(name2),dialogs['bane'][i],'\\n')\n",
        "    time.sleep(2)\n",
        "    print('{}: '.format(name1),dialogs['batman'][i],'\\n')\n",
        "    time.sleep(2)\n",
        "\n",
        "  \n"
      ],
      "metadata": {
        "id": "bhzcBOnDsfIp"
      },
      "execution_count": 70,
      "outputs": []
    },
    {
      "cell_type": "code",
      "source": [
        "conversation_between(\"Batman\",\"Bane\")"
      ],
      "metadata": {
        "colab": {
          "base_uri": "https://localhost:8080/"
        },
        "id": "F6w-VWmPsv2Y",
        "outputId": "0fc4a4aa-51ad-4c90-cc18-27d61158d0b0"
      },
      "execution_count": 72,
      "outputs": [
        {
          "output_type": "stream",
          "name": "stdout",
          "text": [
            "Bane:  Peace has cost you your strength! Victory has defeated you! \n",
            "\n",
            "Batman:  Why didn't you just... kill me? \n",
            "\n",
            "Bane:  You don't fear death... You welcome it. Your punishment must be more severe. \n",
            "\n",
            "Batman:  Torture? \n",
            "\n",
            "Bane:  Yes. But not of your body... Of your soul. \n",
            "\n",
            "Batman:  Where am I? \n",
            "\n",
            "Bane:  Home, where I learned the truth about despair, as will you. \n",
            "       Theatricality and deception are powerful agents to the uninitiated... but we are initiated, aren't we Bruce? Members of the League of Shadows And you betrayed us \n",
            "\n",
            "Batman:  You were excommunicated... by a gang of psychopaths! \n",
            "         [Bane viciously beats Batman and throws him to the ground]  \n",
            "\n"
          ]
        }
      ]
    },
    {
      "cell_type": "code",
      "source": [
        "from google.colab import files\n",
        "import io\n",
        "\n",
        "data_path = 'dialogs.txt'\n",
        "with open(data_path, 'rb') as f:\n",
        "    lines = f.read()\n",
        "    # decoding it from binary form\n",
        "    conversation=lines.decode(\"utf-8\").split('\\n')\n",
        "    "
      ],
      "metadata": {
        "id": "Iox2Yc1czjlk"
      },
      "execution_count": 104,
      "outputs": []
    },
    {
      "cell_type": "code",
      "source": [
        "print(conversation)"
      ],
      "metadata": {
        "colab": {
          "base_uri": "https://localhost:8080/"
        },
        "id": "_gKEf4nWznzq",
        "outputId": "6f25beba-9b33-49ce-cabc-12e778f28d01"
      },
      "execution_count": 105,
      "outputs": [
        {
          "output_type": "stream",
          "name": "stdout",
          "text": [
            "['Bane : Peace has cost you your strength! Victory has defeated you!', '', \"Bruce Wayne : Why didn't you just... kill me?\", '', \"Bane : You don't fear death... You welcome it. Your punishment must be more severe.\", '', 'Bruce Wayne : Torture?', '', 'Bane : Yes. But not of your body... Of your soul.', '', 'Bruce Wayne : Where am I?', '', 'Bane : Home, where I learned the truth about despair, as will you. There\\'s a reason why this prison is the worst hell on earth... Hope. Every man who has ventured here over the centuries has looked up to the light and imagined climbing to freedom. So easy... So simple... And like shipwrecked men turning to sea water from uncontrollable thirst, many have died trying. I learned here that there can be no true despair without hope. So, as I terrorize Gotham, I will feed its people hope to poison their souls. I will let them believe they can survive so that you can watch them clamoring over each other to \"stay in the sun.\" You can watch me torture an entire city and when you have truly understood the depth of your failure, we will fulfill Ra\\'s al Ghul\\'s destiny... We will destroy Gotham and then, when it is done and Gotham is ashes, then you have my permission to die', '', \"Bane : Theatricality and deception are powerful agents to the uninitiated... but we are initiated, aren't we Bruce? Members of the League of Shadows!\", '', '', 'Bane : And you betrayed us!', '', 'Batman : You were excommunicated... by a gang of psychopaths!', '', \"Bane : I AM the League of Shadows, and I'm here to fulfill Ra's al Ghul's destiny!\", '', 'Satyam : This Conversation overs, NOW !!!']\n"
          ]
        }
      ]
    },
    {
      "cell_type": "code",
      "source": [
        "for speaks in conversation:\n",
        "  if speaks is None:\n",
        "    pass\n",
        "  else:\n",
        "    time.sleep(1)\n",
        "    print(speaks)"
      ],
      "metadata": {
        "colab": {
          "base_uri": "https://localhost:8080/"
        },
        "id": "srHr9GVX16EH",
        "outputId": "c235ecd7-4e2f-48f8-d30d-fabe5cf1e271"
      },
      "execution_count": 106,
      "outputs": [
        {
          "output_type": "stream",
          "name": "stdout",
          "text": [
            "Bane : Peace has cost you your strength! Victory has defeated you!\n",
            "\n",
            "Bruce Wayne : Why didn't you just... kill me?\n",
            "\n",
            "Bane : You don't fear death... You welcome it. Your punishment must be more severe.\n",
            "\n",
            "Bruce Wayne : Torture?\n",
            "\n",
            "Bane : Yes. But not of your body... Of your soul.\n",
            "\n",
            "Bruce Wayne : Where am I?\n",
            "\n",
            "Bane : Home, where I learned the truth about despair, as will you. There's a reason why this prison is the worst hell on earth... Hope. Every man who has ventured here over the centuries has looked up to the light and imagined climbing to freedom. So easy... So simple... And like shipwrecked men turning to sea water from uncontrollable thirst, many have died trying. I learned here that there can be no true despair without hope. So, as I terrorize Gotham, I will feed its people hope to poison their souls. I will let them believe they can survive so that you can watch them clamoring over each other to \"stay in the sun.\" You can watch me torture an entire city and when you have truly understood the depth of your failure, we will fulfill Ra's al Ghul's destiny... We will destroy Gotham and then, when it is done and Gotham is ashes, then you have my permission to die\n",
            "\n",
            "Bane : Theatricality and deception are powerful agents to the uninitiated... but we are initiated, aren't we Bruce? Members of the League of Shadows!\n",
            "\n",
            "\n",
            "Bane : And you betrayed us!\n",
            "\n",
            "Batman : You were excommunicated... by a gang of psychopaths!\n",
            "\n",
            "Bane : I AM the League of Shadows, and I'm here to fulfill Ra's al Ghul's destiny!\n",
            "\n",
            "Satyam : This Conversation overs, NOW !!!\n"
          ]
        }
      ]
    },
    {
      "cell_type": "code",
      "source": [
        "mine= \"Satyam : This Conversation overs, NOW !!!\"\n",
        "\n",
        "\n",
        "# appending the existing data\n",
        "with open(data_path, 'a') as f:\n",
        "    f.write(mine)\n",
        "    \n",
        "    "
      ],
      "metadata": {
        "id": "QeVITygj2H5M"
      },
      "execution_count": 103,
      "outputs": []
    },
    {
      "cell_type": "markdown",
      "source": [
        "#**Inheritance**"
      ],
      "metadata": {
        "id": "RtFP06Q-5dfi"
      }
    },
    {
      "cell_type": "code",
      "source": [
        "# Parent Class\n",
        "class Vehicles:\n",
        "  def __init__(self, types, model):\n",
        "    self.types = types\n",
        "    self.model = model\n",
        "\n",
        "  def display_type(self):\n",
        "    print(\"Vehicle type is {}\".format(self.types))\n",
        "  \n",
        "  def display_model(self):\n",
        "    print(\"Vehicle model is {}\".format(self.model))\n",
        "\n",
        "\n",
        "bike = Vehicles(\"Bike\", \"Ducati Scrambler\")\n",
        "bike.display_type()\n",
        "bike.display_model()\n",
        "\n",
        "\n",
        "# Child Class\n",
        "class MyVehicle(Vehicles):\n",
        "\n",
        "  def __init__(self, types, model, price):\n",
        "    self.price = price\n",
        "\n",
        "    # invoking the __init__ of the parent class\n",
        "    Vehicles.__init__(self ,types, model)\n",
        "\n",
        "\n",
        "  def display_all(self):\n",
        "    print(\"Vehicle type is {}\".format(self.types))\n",
        "    print(\"Vehicle model is {}\".format(self.model))\n",
        "    print(\"Vehicle price is {}\".format(self.price))\n",
        "\n",
        "\n",
        "\n"
      ],
      "metadata": {
        "colab": {
          "base_uri": "https://localhost:8080/"
        },
        "id": "YBs8UUMp8OaQ",
        "outputId": "8c519dc9-e7da-42a3-b84a-316bbb1b32a6"
      },
      "execution_count": 117,
      "outputs": [
        {
          "output_type": "stream",
          "name": "stdout",
          "text": [
            "Vehicle type is Bike\n",
            "Vehicle model is Ducati Scrambler\n"
          ]
        }
      ]
    },
    {
      "cell_type": "code",
      "source": [
        "my_bike=MyVehicle(\"Bike\", \"Ducati Scrambler\",\"900000\")"
      ],
      "metadata": {
        "id": "umbTXTEK_bmi"
      },
      "execution_count": 118,
      "outputs": []
    },
    {
      "cell_type": "code",
      "source": [
        "my_bike.display_all()"
      ],
      "metadata": {
        "colab": {
          "base_uri": "https://localhost:8080/"
        },
        "id": "sPJ1mtVLHB-8",
        "outputId": "cf9404d9-88bf-467e-b1e5-a3a2186215ac"
      },
      "execution_count": 119,
      "outputs": [
        {
          "output_type": "stream",
          "name": "stdout",
          "text": [
            "Vehicle type is Bike\n",
            "Vehicle model is Ducati Scrambler\n",
            "Vehicle price is 900000\n"
          ]
        }
      ]
    },
    {
      "cell_type": "markdown",
      "source": [
        "#**Arbitary** **Keywords**\n",
        ">If we don't know how many keyword arguments that will be passed into your function we use arbitary keywords by adding ** in argument."
      ],
      "metadata": {
        "id": "vYU8ijnjHHtX"
      }
    },
    {
      "cell_type": "code",
      "source": [
        "def my_function(**name):\n",
        "  print(\"His first name is \" + name[\"fname\"])\n",
        "  print(\"His last name is \" +  name[\"lname\"])\n",
        "\n",
        "my_function(fname = \"Bruce\", lname = \"Wayne\")"
      ],
      "metadata": {
        "colab": {
          "base_uri": "https://localhost:8080/"
        },
        "id": "O8ck_LfLH_9G",
        "outputId": "9739db6e-4259-4dfe-e6c8-fcba332ae488"
      },
      "execution_count": 126,
      "outputs": [
        {
          "output_type": "stream",
          "name": "stdout",
          "text": [
            "His first name is Bruce\n",
            "His last name is Wayne\n"
          ]
        }
      ]
    },
    {
      "cell_type": "markdown",
      "source": [
        "#**List** **Comprehension** "
      ],
      "metadata": {
        "id": "jFCfKMZnIBGl"
      }
    },
    {
      "cell_type": "code",
      "source": [
        "items = [\"bike\", \"car\", \"plane\", \"boat\", \"rocket\"]\n",
        "\n",
        "new_list = [item for item in items if \"rocket\" in item]\n",
        "\n",
        "print(new_list)"
      ],
      "metadata": {
        "colab": {
          "base_uri": "https://localhost:8080/"
        },
        "id": "kaLrP9A1KSXP",
        "outputId": "f2d171e7-ef76-4830-a781-36eefee23783"
      },
      "execution_count": 128,
      "outputs": [
        {
          "output_type": "stream",
          "name": "stdout",
          "text": [
            "['rocket']\n"
          ]
        }
      ]
    },
    {
      "cell_type": "code",
      "source": [],
      "metadata": {
        "id": "0PcEmK4iK3N8"
      },
      "execution_count": null,
      "outputs": []
    }
  ]
}